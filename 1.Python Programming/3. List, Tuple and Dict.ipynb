{
 "cells": [
  {
   "cell_type": "markdown",
   "metadata": {},
   "source": [
    "![alt](https://research.utm.my/wp-content/uploads/sites/26/2022/06/logo-300x122.png)\n",
    "# Center for Artificial Intelligence and Robotics\n",
    "#### Universiti Teknologi Malaysia\n",
    "\n",
    "\n",
    "### Python Collections\n",
    "\n",
    "*Author: Dr. Ibrahim, Azzam, Thaqif & Syahmi*\n",
    "\n",
    "**List, Tuple and Dictionary**"
   ]
  },
  {
   "cell_type": "markdown",
   "metadata": {
    "id": "5BFTjrh8CHf9"
   },
   "source": [
    "**List**: A collection which is ordered and changeable. In Python lists are written with square brackets.\n",
    "\n",
    "**Tuple**: A collection which is ordered and unchangeable.  In Python tuples are written with round brackets.\n",
    "\n",
    "**Dictionary**: A collection which is unordered, changeable and indexed. In Python dictionaries are written with curly brackets, and they have keys and values."
   ]
  },
  {
   "cell_type": "code",
   "execution_count": 2,
   "metadata": {
    "id": "SmKsvNM6_N_O"
   },
   "outputs": [
    {
     "name": "stdout",
     "output_type": "stream",
     "text": [
      "['a', 'b', 'c']\n",
      "('q', 'w', 'e')\n",
      "{'first': 'x', 'second': 'y', 'third': 'z'}\n"
     ]
    }
   ],
   "source": [
    "list = [\"a\", \"b\", \"c\"]\n",
    "print(list)\n",
    "\n",
    "tuple = (\"q\", \"w\", \"e\")\n",
    "# Question 1\n",
    "# Please print tuple here :\n",
    "\n",
    "dict = {\"first\":\"x\", \"second\":\"y\", \"third\":\"z\"}\n",
    "# Question 2\n",
    "# Please print dict here\n"
   ]
  },
  {
   "cell_type": "markdown",
   "metadata": {
    "id": "qyDh__1jL0yh"
   },
   "source": [
    "Indexing operations for list, tuple and dict is similar to string."
   ]
  },
  {
   "cell_type": "code",
   "execution_count": 14,
   "metadata": {
    "colab": {
     "base_uri": "https://localhost:8080/"
    },
    "executionInfo": {
     "elapsed": 327,
     "status": "ok",
     "timestamp": 1646126937117,
     "user": {
      "displayName": "MOHD IBRAHIM BIN SHAPIAI@ABD.RAZAK MJIIT",
      "photoUrl": "https://lh3.googleusercontent.com/a-/AOh14Gj4pu_iQ0xNvGcG12-O4U6zMns3tDTZLL-d014iQbEYwDNSrWd0iXqO_Hqr38H_pqETsKd_21hSnaEtY8SAzGfUJaB0Y20wHhsMzstiKI8Y_YIPEjD8uszUu6xkO3BaZB9zYWg4EBZSW1jo6mCJrL6_7rjN1qvuHm1o-poSPr3I_1QMVkOKD2DM3O_szAX-yCPWJ5K9BCD37QFF1vLDAEl9krxOI6woUIbI5KJtRQJa3nIJtsGUQMsafYTsYc2fYAD1iBvnPlUaUu8gDHoh8bQeja0cF5c6UaleWBdiMns-868PPWte7gH1eYzdVthFeR05t2GhbJr2RegFIPOTuqq6MTdgUrf1fUlkLFA4xwnKd3CuZzlohDJy50QI7mhzqaxJP98oVa9zhQrjF4YY11_dbKDY0BhBx2BlqTSf77sJFbsl3zpD1gTr3-drBQYq5d-LTQnRLjSjVrvO4Mjzj9TfBcrMri4gkalaNCg9QRzm-slexF-JJpmAAUvmsp38VJh-p0PUaZ6W3W0o3g80jaoq5NvCRrpaqQztPh4IWQu1nyxeJu-fIUu0-F0ILlM9YGhtFIz7AqVIj-_mL1Y1dx7PiktAsZQir4Q5kPbz1-gCUQ-w3PaGeibjwz6XDA49J0A9--ivcVB97JwD-8lFivg7ja0JcTf9Q1-i8vJfuR24EUAwV_6_nucvmdXi5tgL-vLYtFiyfw8Qx1wb4VDX-o07XTTFlJ0Zry1o40PgEOHesaz_2aQr1b_Pu-UF-qXM-yg6fQ=s64",
      "userId": "01318899631218949735"
     },
     "user_tz": -480
    },
    "id": "vr6UUvkYL_Oo",
    "outputId": "15bad411-0f83-4330-f792-5dfbdaa65f2d"
   },
   "outputs": [
    {
     "name": "stdout",
     "output_type": "stream",
     "text": [
      "a ['a', 'b', 'c'] ['a', 'b']\n",
      "q ('q', 'w', 'e') ('q', 'w')\n",
      "('x', 'a')\n"
     ]
    }
   ],
   "source": [
    "list = [\"a\", \"b\", \"c\"]\n",
    "print(list[0], list[0:3], list[0:-1])\n",
    "\n",
    "tuple = (\"q\", \"w\", \"e\")\n",
    "print(tuple[0], tuple[0:3], tuple[0:-1])\n",
    "\n",
    "dict = {\"first\":(\"x\",\"a\"),\"second\":(\"y\",\"a\"),\"third\":(\"z\",\"a\")}\n",
    "\n",
    "# Use the label to call the item assigned to the label or key, or use items() function to get the full list of items.\n",
    "\n",
    "# Question 3\n",
    "# Please print the value for the key \"first\" :"
   ]
  },
  {
   "cell_type": "markdown",
   "metadata": {
    "id": "qkUOI2hrSUOR"
   },
   "source": [
    "Changing items value is doable on list and dict but not with tuple. Once a tuple is created, the values are fixed."
   ]
  },
  {
   "cell_type": "code",
   "execution_count": 15,
   "metadata": {
    "colab": {
     "base_uri": "https://localhost:8080/"
    },
    "executionInfo": {
     "elapsed": 322,
     "status": "ok",
     "timestamp": 1646127071397,
     "user": {
      "displayName": "MOHD IBRAHIM BIN SHAPIAI@ABD.RAZAK MJIIT",
      "photoUrl": "https://lh3.googleusercontent.com/a-/AOh14Gj4pu_iQ0xNvGcG12-O4U6zMns3tDTZLL-d014iQbEYwDNSrWd0iXqO_Hqr38H_pqETsKd_21hSnaEtY8SAzGfUJaB0Y20wHhsMzstiKI8Y_YIPEjD8uszUu6xkO3BaZB9zYWg4EBZSW1jo6mCJrL6_7rjN1qvuHm1o-poSPr3I_1QMVkOKD2DM3O_szAX-yCPWJ5K9BCD37QFF1vLDAEl9krxOI6woUIbI5KJtRQJa3nIJtsGUQMsafYTsYc2fYAD1iBvnPlUaUu8gDHoh8bQeja0cF5c6UaleWBdiMns-868PPWte7gH1eYzdVthFeR05t2GhbJr2RegFIPOTuqq6MTdgUrf1fUlkLFA4xwnKd3CuZzlohDJy50QI7mhzqaxJP98oVa9zhQrjF4YY11_dbKDY0BhBx2BlqTSf77sJFbsl3zpD1gTr3-drBQYq5d-LTQnRLjSjVrvO4Mjzj9TfBcrMri4gkalaNCg9QRzm-slexF-JJpmAAUvmsp38VJh-p0PUaZ6W3W0o3g80jaoq5NvCRrpaqQztPh4IWQu1nyxeJu-fIUu0-F0ILlM9YGhtFIz7AqVIj-_mL1Y1dx7PiktAsZQir4Q5kPbz1-gCUQ-w3PaGeibjwz6XDA49J0A9--ivcVB97JwD-8lFivg7ja0JcTf9Q1-i8vJfuR24EUAwV_6_nucvmdXi5tgL-vLYtFiyfw8Qx1wb4VDX-o07XTTFlJ0Zry1o40PgEOHesaz_2aQr1b_Pu-UF-qXM-yg6fQ=s64",
      "userId": "01318899631218949735"
     },
     "user_tz": -480
    },
    "id": "pl2DpBosSmbZ",
    "outputId": "6bfdddb4-172f-4201-f442-d11bf22d7e1e"
   },
   "outputs": [
    {
     "name": "stdout",
     "output_type": "stream",
     "text": [
      "tuple cant be changed\n",
      "{'first': 'new', 'second': 'y', 'third': 'z'}\n"
     ]
    }
   ],
   "source": [
    "pd = [\"a\", \"b\", \"c\"]\n",
    "tuple = (\"q\", \"w\", \"e\")\n",
    "dict = {\"first\":\"x\",\"second\":\"y\",\"third\":\"z\"}\n",
    "\n",
    "\n",
    "# Question 4 \n",
    "# Change \"a\" in list to \"new\" here : \n",
    "\n",
    "\n",
    "try:\n",
    "  tuple[0]=\"new\"\n",
    "except:\n",
    "   print(\"tuple cant be changed\")\n"
   ]
  },
  {
   "cell_type": "markdown",
   "metadata": {
    "id": "EpoWM_HdTqYB"
   },
   "source": [
    "Add or remove items:"
   ]
  },
  {
   "cell_type": "code",
   "execution_count": 16,
   "metadata": {
    "id": "tHy6_xlGTtCz"
   },
   "outputs": [
    {
     "name": "stdout",
     "output_type": "stream",
     "text": [
      "['a', 'b', 'c', 'd']\n",
      "{'first': 'x', 'second': 'y', 'third': 'z', 'new': 'new'}\n"
     ]
    }
   ],
   "source": [
    "## Adding Items\n",
    "list = [\"a\", \"b\", \"c\"]\n",
    "list.append (\"d\")           # Using append() to add items into list\n",
    "print (list)\n",
    "\n",
    "dict = {\"first\":\"x\",\"second\":\"y\",\"third\":\"z\"}\n",
    "dict[\"new\"]= \"new\"          # Directly assign a new key or label along with the items will do.\n",
    "print (dict)\n",
    "\n"
   ]
  },
  {
   "cell_type": "code",
   "execution_count": 19,
   "metadata": {
    "id": "zLz-ggPPWXMF"
   },
   "outputs": [
    {
     "name": "stdout",
     "output_type": "stream",
     "text": [
      "['b', 'c']\n",
      "{'second': 'y', 'third': 'z'}\n"
     ]
    }
   ],
   "source": [
    "## Removing Items\n",
    "list = [\"a\", \"b\", \"c\"]\n",
    "list.pop (0)                # Removing first integer from the list\n",
    "print (list)\n",
    "\n",
    "dict = {\"first\":\"x\",\"second\":\"y\",\"third\":\"z\"}\n",
    "# Question 5\n",
    "# Removing key \"first\" from the dict :"
   ]
  },
  {
   "cell_type": "code",
   "execution_count": 20,
   "metadata": {
    "id": "kn1Yn3Z3WnDu"
   },
   "outputs": [
    {
     "name": "stdout",
     "output_type": "stream",
     "text": [
      "['a', 'b', 'c'] {'first': 'x', 'second': 'y', 'third': 'z'}\n",
      "<class 'list'> <class 'dict'>\n"
     ]
    }
   ],
   "source": [
    "# Use del keyword to remove all items in list and dict\n",
    "list = [\"a\", \"b\", \"c\"]\n",
    "dict = {\"first\":\"x\",\"second\":\"y\",\"third\":\"z\"}\n",
    "print (list, dict)\n",
    "\n",
    "del list , dict\n",
    "print (list, dict) # All data is erased from list and dict\n"
   ]
  },
  {
   "cell_type": "code",
   "execution_count": null,
   "metadata": {},
   "outputs": [],
   "source": []
  }
 ],
 "metadata": {
  "colab": {
   "collapsed_sections": [],
   "name": "3. List, Tuple and Dict.ipynb",
   "provenance": []
  },
  "kernelspec": {
   "display_name": "Python 3 (ipykernel)",
   "language": "python",
   "name": "python3"
  },
  "language_info": {
   "codemirror_mode": {
    "name": "ipython",
    "version": 3
   },
   "file_extension": ".py",
   "mimetype": "text/x-python",
   "name": "python",
   "nbconvert_exporter": "python",
   "pygments_lexer": "ipython3",
   "version": "3.10.12"
  }
 },
 "nbformat": 4,
 "nbformat_minor": 4
}
