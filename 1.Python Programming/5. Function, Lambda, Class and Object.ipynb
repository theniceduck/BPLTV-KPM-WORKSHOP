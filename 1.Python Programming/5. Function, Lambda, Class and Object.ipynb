{
 "cells": [
  {
   "cell_type": "markdown",
   "metadata": {},
   "source": [
    "![alt](https://research.utm.my/wp-content/uploads/sites/26/2022/06/logo-300x122.png)\n",
    "# Center for Artificial Intelligence and Robotics\n",
    "#### Universiti Teknologi Malaysia\n",
    "\n",
    "\n",
    "### Python Callable\n",
    "\n",
    "*Author: Dr. Ibrahim, Azzam, Thaqif & Syahmi*\n",
    "\n",
    "**Function, Lambda, Class and Object**"
   ]
  },
  {
   "cell_type": "markdown",
   "metadata": {
    "id": "dG9ahRIGW5H2"
   },
   "source": [
    "**Function**: A function is a block of code which only runs when it is called. \n",
    "You can pass data, known as parameters, into a function. A function can return data as a result."
   ]
  },
  {
   "cell_type": "markdown",
   "metadata": {
    "id": "QoVHfCMNX4rV"
   },
   "source": [
    "In this example, we set a new function to print a string when we call it."
   ]
  },
  {
   "cell_type": "code",
   "execution_count": 1,
   "metadata": {
    "id": "yrALz4-zRBjb"
   },
   "outputs": [],
   "source": [
    "def cetak():\n",
    "  \n",
    "  print(\"Hello World\")"
   ]
  },
  {
   "cell_type": "code",
   "execution_count": 2,
   "metadata": {
    "colab": {
     "base_uri": "https://localhost:8080/",
     "height": 36
    },
    "executionInfo": {
     "elapsed": 759,
     "status": "ok",
     "timestamp": 1601630796877,
     "user": {
      "displayName": "MJIIT ESE Info MJIIT, UTMKL",
      "photoUrl": "",
      "userId": "03310866122965297075"
     },
     "user_tz": -480
    },
    "id": "KIrc3lGXVKdF",
    "outputId": "176a4d3b-c2c5-479a-fd9a-9817d24ed256"
   },
   "outputs": [
    {
     "name": "stdout",
     "output_type": "stream",
     "text": [
      "Hello World\n"
     ]
    }
   ],
   "source": [
    "# Question 1\n",
    "# Create a function that print \"Hello World !\" :"
   ]
  },
  {
   "cell_type": "markdown",
   "metadata": {
    "id": "31UoDo4HXgY_"
   },
   "source": [
    "You can pass some arguments or variables, whether it is string, integer or float into the function as input. Here we pass 2 strings into the function and it will print them out."
   ]
  },
  {
   "cell_type": "code",
   "execution_count": 4,
   "metadata": {
    "id": "xgaez0QcVhOD"
   },
   "outputs": [],
   "source": [
    "# Question 2\n",
    "# Create a function that pass integer a = \"This is arg a\" and b = \"and this is b\" :"
   ]
  },
  {
   "cell_type": "markdown",
   "metadata": {
    "id": "su4SJ_UiYOVs"
   },
   "source": [
    "You can also use ***return*** to get some new variables in function when u call it."
   ]
  },
  {
   "cell_type": "code",
   "execution_count": null,
   "metadata": {
    "id": "J2N_yScOWxEl"
   },
   "outputs": [],
   "source": [
    "changeFunc(\"a\",b)"
   ]
  },
  {
   "cell_type": "code",
   "execution_count": 2,
   "metadata": {
    "executionInfo": {
     "elapsed": 314,
     "status": "ok",
     "timestamp": 1646127711091,
     "user": {
      "displayName": "MOHD IBRAHIM BIN SHAPIAI@ABD.RAZAK MJIIT",
      "photoUrl": "https://lh3.googleusercontent.com/a-/AOh14Gj5tZ6YHfScRJ40y1Cg-c4laY3vg0x9leu7FAg9j6HSQ3wf0N5jBf7ZrVcmBXkzAB-BWvrMmmoWopPNx2ztLmvImAyrciuzg_z3svKYpxRnShE9cSbzj762vgo_gtrn0TZvDYu1Sl8hiANiwUZTOm1lKIYU3pAS7sgHTcpoNBGGp6jJqTT_6MvGpNPAZqggM_N5Y9g2CNfRrW31Pv_8_5mMBt0fdO1J55Aq1vDdlbVPSmSnAlYbAj1tqmkhQFXCvar0WI2PvyC1f8wbUjybJ1bHbB198SHyoz80ubsZlTSDGoRDsvpCqrYR2TMnFJakeQij1VjIFRN-_bH8Ni0A3Jk4cpchj3WJ_V0d3nVFMSgKRsA7sdHe8HCRy83p0vFsgtxON7EVFSQDT-Syt6cZ4-rwPFRq9GQ42J3yBtNm47-e65WJp7ESiIKGcNJw1WJEQJsP7yTwRriOaCHKmEVF3RTezkM2BRu4epc8tQuOFlUROOCrMPZdQzzf3UlFCYty4pPx0y5jx0jr0SmvF7U3LtKMQNiHvOWX8XSpN0lc1ACv8LkccY_6GH05x1pgw69FnPikxjMLaY6XQxAroBC8nEj_FlMuWwYr3b5srKuTklmEhMAwgA5VqNYZEmVAye3t_25atIT0pGxUe2DwMN-mEQG-kKmawAGZbLy3VoIgowfIE_EDs524GhePRR5fnFpkX1mfX-1cVWghszeI8y2E5274Kpr4S1BYzFt_QD1yf7sVa1ifnZre-YomZk-MLTKW4u0qEQ=s64",
      "userId": "01318899631218949735"
     },
     "user_tz": -480
    },
    "id": "eJ5KYO6sV4ga"
   },
   "outputs": [
    {
     "data": {
      "text/plain": [
       "3"
      ]
     },
     "execution_count": 2,
     "metadata": {},
     "output_type": "execute_result"
    }
   ],
   "source": [
    "# Question 3\n",
    "# Create a function that return sum of 252 and 53 :"
   ]
  },
  {
   "cell_type": "markdown",
   "metadata": {
    "id": "n5vDxuIkbqwJ"
   },
   "source": [
    "**Lambda:** A lambda function is a small anonymous function.\n",
    "A lambda function can take any number of arguments, but can only have one expression."
   ]
  },
  {
   "cell_type": "code",
   "execution_count": null,
   "metadata": {
    "colab": {
     "base_uri": "https://localhost:8080/",
     "height": 36
    },
    "executionInfo": {
     "elapsed": 1259,
     "status": "ok",
     "timestamp": 1601631336412,
     "user": {
      "displayName": "MJIIT ESE Info MJIIT, UTMKL",
      "photoUrl": "",
      "userId": "03310866122965297075"
     },
     "user_tz": -480
    },
    "id": "2QzeY_iHWsc8",
    "outputId": "251a5b75-94a3-432c-fb32-99dc0c7b830d"
   },
   "outputs": [],
   "source": [
    "# Question 4\n",
    "# Create a lambda function that will print y equal to 20 :\n"
   ]
  },
  {
   "cell_type": "markdown",
   "metadata": {
    "id": "UpZwJD--ZIsr"
   },
   "source": [
    "**Class:** A Class is like an object constructor, or a \"blueprint\" for creating objects.\n",
    "Here we create a class named MyClass, containing a variable int 5, then we accessing using *MyClass.x* or create an **Object** named obj and access using *obj.x*"
   ]
  },
  {
   "cell_type": "code",
   "execution_count": 3,
   "metadata": {},
   "outputs": [
    {
     "name": "stdout",
     "output_type": "stream",
     "text": [
      "Access via class: 5\n",
      "Access via object: 5\n"
     ]
    }
   ],
   "source": [
    "# Define a class with a class variable x\n",
    "class MyClass:\n",
    "    x = 5  # This is a class variable, of type int\n",
    "\n",
    "# Access using the class name\n",
    "print(\"Access via class:\", MyClass.x)\n",
    "\n",
    "# Create an object from the class\n",
    "obj = MyClass()\n",
    "\n",
    "# Access using the object\n",
    "print(\"Access via object:\", obj.x)"
   ]
  },
  {
   "cell_type": "markdown",
   "metadata": {
    "id": "JFHfPTKUa1zZ"
   },
   "source": [
    "Here is an example combining Class, Object and Function to illustrate the behaviour of these 3 topics. The self parameter is a reference to the class itself, and is used to access variables that belongs to the class. It does not have to be named self , you can call it whatever you like, but it has to be the first parameter of any function in the class:"
   ]
  },
  {
   "cell_type": "code",
   "execution_count": 4,
   "metadata": {
    "id": "_iviCY4NbDrR"
   },
   "outputs": [
    {
     "name": "stdout",
     "output_type": "stream",
     "text": [
      "John\n",
      "36\n",
      "This will print [John,36] \n"
     ]
    }
   ],
   "source": [
    "class Person:\n",
    "  def __init__(self, name, age):\n",
    "    self.name = name\n",
    "    self.age = age\n",
    "  \n",
    "  # This function will display the variables in object as a string\n",
    "  def print_v (self):\n",
    "    return \"This will print [{},{}] \".format(self.name, self.age)\n",
    "\n",
    "p1 = Person(\"John\", 36)\n",
    "\n",
    "# Print variable in Object\n",
    "print(p1.name)\n",
    "print(p1.age)\n",
    "\n",
    "# Calling print_v function in class to print the variables\n",
    "print(p1.print_v())"
   ]
  },
  {
   "cell_type": "markdown",
   "metadata": {
    "id": "z2HunzkuxJzw"
   },
   "source": [
    "**Class Inheritence:**\n",
    "\n",
    "Inheritance is the process by which one class takes on the attributes and methods of another. Newly formed classes are called child classes, and the classes that child classes are derived from are called parent classes.\n",
    "\n",
    "It’s important to note that child classes override or extend the functionality (e.g., attributes and behaviors) of parent classes. In other words, child classes inherit all of the parent’s attributes and behaviors but can also specify different behavior to follow. The most basic type of class is an object, which generally all other classes inherit as their parent."
   ]
  },
  {
   "cell_type": "code",
   "execution_count": 5,
   "metadata": {
    "id": "uKHzx0nIxEjc"
   },
   "outputs": [
    {
     "name": "stdout",
     "output_type": "stream",
     "text": [
      "This will print [Alex,12] \n",
      "Alex runs slowly\n",
      "True\n"
     ]
    }
   ],
   "source": [
    "# Parent class\n",
    "class Person:\n",
    "  def __init__(self, name, age):\n",
    "    self.name = name\n",
    "    self.age = age\n",
    "  \n",
    "  # This function will display the variables in object as a string\n",
    "  def print_v (self):\n",
    "    return \"This will print [{},{}] \".format(self.name, self.age)\n",
    "\n",
    "\n",
    "# Child class (inherits from Person() class)\n",
    "class Student(Person):\n",
    "    def run(self, speed):\n",
    "        return \"{} runs {}\".format(self.name, speed)\n",
    "\n",
    "\n",
    "\n",
    "\n",
    "# Child classes inherit attributes and behaviors from the parent class\n",
    "\n",
    "alex = Student(\"Alex\", 12)\n",
    "print(alex.print_v())\n",
    "\n",
    "# Child classes have specific attributes and behaviors as well\n",
    "print(alex.run(\"slowly\"))\n",
    "\n",
    "# Is alex an instance (aka subset) of Person()? \n",
    "print(isinstance(alex, Person))\n",
    "\n"
   ]
  },
  {
   "cell_type": "markdown",
   "metadata": {
    "id": "Cf_HXX5EzIdR"
   },
   "source": [
    "**Overriding the Functionality of a Parent Class:**\n"
   ]
  },
  {
   "cell_type": "code",
   "execution_count": 6,
   "metadata": {
    "id": "QsTUDaZfzPLT"
   },
   "outputs": [
    {
     "name": "stdout",
     "output_type": "stream",
     "text": [
      "170\n",
      "170\n",
      "180\n"
     ]
    }
   ],
   "source": [
    "# The child class can have a different attribute or behaviour from their parents.\n",
    "# The height variable is redefined for teacher in the example below.\n",
    "\n",
    "# Parent class\n",
    "class Person:\n",
    "  height =\"170\"\n",
    "\n",
    "# Child class 1\n",
    "class Student(Person):\n",
    "   pass\n",
    "  \n",
    "# Child class 2\n",
    "class Teacher(Person):\n",
    "   height = \"180\"\n",
    "    \n",
    "print (Person.height)\n",
    "print (Student.height)\n",
    "print (Teacher.height)"
   ]
  },
  {
   "cell_type": "code",
   "execution_count": null,
   "metadata": {},
   "outputs": [],
   "source": []
  }
 ],
 "metadata": {
  "colab": {
   "collapsed_sections": [],
   "name": "5. Function, Lambda, Class and Object.ipynb",
   "provenance": []
  },
  "kernelspec": {
   "display_name": "Python 3 (ipykernel)",
   "language": "python",
   "name": "python3"
  },
  "language_info": {
   "codemirror_mode": {
    "name": "ipython",
    "version": 3
   },
   "file_extension": ".py",
   "mimetype": "text/x-python",
   "name": "python",
   "nbconvert_exporter": "python",
   "pygments_lexer": "ipython3",
   "version": "3.10.12"
  }
 },
 "nbformat": 4,
 "nbformat_minor": 4
}
