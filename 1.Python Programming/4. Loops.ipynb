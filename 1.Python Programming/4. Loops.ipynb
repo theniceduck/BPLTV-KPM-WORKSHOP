{
 "cells": [
  {
   "cell_type": "markdown",
   "metadata": {},
   "source": [
    "![alt](https://research.utm.my/wp-content/uploads/sites/26/2022/06/logo-300x122.png)\n",
    "# Center for Artificial Intelligence and Robotics\n",
    "#### Universiti Teknologi Malaysia\n",
    "\n",
    "\n",
    "### Python Looping\n",
    "\n",
    "*Author: Dr. Ibrahim, Azzam, Thaqif & Syahmi*\n",
    "\n",
    "**While and for loop**"
   ]
  },
  {
   "cell_type": "markdown",
   "metadata": {
    "id": "n3cncaf-yLT_"
   },
   "source": [
    "**Loops:**Python has two primitive loop commands:\n",
    "\n",
    "* while loops\n",
    "* for loops"
   ]
  },
  {
   "cell_type": "code",
   "execution_count": 1,
   "metadata": {
    "id": "M5AEVS9wyHut"
   },
   "outputs": [
    {
     "name": "stdout",
     "output_type": "stream",
     "text": [
      "0\n",
      "1\n",
      "2\n"
     ]
    }
   ],
   "source": [
    "# While loop\n",
    "i=0\n",
    "while i <3:\n",
    "  print (i)\n",
    "  i+=1"
   ]
  },
  {
   "cell_type": "markdown",
   "metadata": {
    "id": "nazNx2lty0mO"
   },
   "source": [
    "We can also use in range() to do the conditioning."
   ]
  },
  {
   "cell_type": "code",
   "execution_count": 2,
   "metadata": {
    "id": "Hh885Aqgy0-3"
   },
   "outputs": [
    {
     "name": "stdout",
     "output_type": "stream",
     "text": [
      "0\n",
      "1\n",
      "2\n"
     ]
    }
   ],
   "source": [
    "# Similar to code above\n",
    "i=0\n",
    "while i in range (3):\n",
    "  print (i)\n",
    "  i+=1"
   ]
  },
  {
   "cell_type": "code",
   "execution_count": 3,
   "metadata": {
    "id": "hzEcCKy-zVyN"
   },
   "outputs": [
    {
     "name": "stdout",
     "output_type": "stream",
     "text": [
      "0\n",
      "1\n",
      "2\n",
      "3\n",
      "4\n"
     ]
    }
   ],
   "source": [
    "# Question 1\n",
    "# Using for loop to print i in range 5 :"
   ]
  },
  {
   "cell_type": "markdown",
   "metadata": {
    "id": "GbJum87Y0ODk"
   },
   "source": [
    "Some additional examples here if you dont want to start with index 0:"
   ]
  },
  {
   "cell_type": "code",
   "execution_count": null,
   "metadata": {
    "id": "oCY39gTa0WMd"
   },
   "outputs": [],
   "source": [
    "# For loop\n",
    "for i in range (2,7): # starting from 2 and stop before 7, or >=2 and <7\n",
    "  print (i)"
   ]
  },
  {
   "cell_type": "code",
   "execution_count": null,
   "metadata": {
    "id": "lwU8PBYhRpQW"
   },
   "outputs": [],
   "source": [
    "# Question 2\n",
    "# Create another example for range 5 to 15 :\n"
   ]
  },
  {
   "cell_type": "code",
   "execution_count": null,
   "metadata": {
    "id": "g-X1ugYA0n-r"
   },
   "outputs": [],
   "source": [
    "# For loop\n",
    "for i in range (2,7,2): # with a stride of 2\n",
    "  print (i)"
   ]
  },
  {
   "cell_type": "markdown",
   "metadata": {
    "id": "Zadf07Ek1M3z"
   },
   "source": [
    "**Break** and **Continue** statement:\n",
    "\n",
    "Break will terminate the loop while continue will skip the current loop and continue on the next loop.\n"
   ]
  },
  {
   "cell_type": "code",
   "execution_count": 1,
   "metadata": {
    "id": "wAF5pdaG7WJc"
   },
   "outputs": [
    {
     "name": "stdout",
     "output_type": "stream",
     "text": [
      "1\n",
      "2\n",
      "end\n"
     ]
    }
   ],
   "source": [
    "# Break will exit the while loop and print \"end\" at i=3\n",
    "i = 0\n",
    "while i < 6:\n",
    "  i += 1\n",
    "  if i == 3:\n",
    "    break\n",
    "  print(i)\n",
    "print (\"end\")\n"
   ]
  },
  {
   "cell_type": "code",
   "execution_count": null,
   "metadata": {
    "id": "pPB8763DR7pl"
   },
   "outputs": [],
   "source": [
    "# Question 3\n",
    "# Create another example of while loop that use break statement where i == 4:"
   ]
  },
  {
   "cell_type": "code",
   "execution_count": 2,
   "metadata": {
    "id": "XigrLuGA754r"
   },
   "outputs": [
    {
     "name": "stdout",
     "output_type": "stream",
     "text": [
      "1\n",
      "2\n",
      "4\n",
      "5\n",
      "6\n",
      "end\n"
     ]
    }
   ],
   "source": [
    "# Continue will skip the current loop at i=3 so \"3\" will be skipped\n",
    "i = 0\n",
    "while i < 6:\n",
    "  i += 1\n",
    "  if i == 3:\n",
    "    continue\n",
    "  print(i)\n",
    "print (\"end\")"
   ]
  },
  {
   "cell_type": "code",
   "execution_count": null,
   "metadata": {
    "id": "IKwFvURQSM4x"
   },
   "outputs": [],
   "source": [
    "# Question 4\n",
    "# Create another example of while loop that use continue statement where i == 4 :"
   ]
  },
  {
   "cell_type": "markdown",
   "metadata": {
    "id": "RSY-PV_V_lpQ"
   },
   "source": [
    "Using loop in list:"
   ]
  },
  {
   "cell_type": "code",
   "execution_count": 4,
   "metadata": {
    "id": "LgMRntYH_puf"
   },
   "outputs": [
    {
     "name": "stdout",
     "output_type": "stream",
     "text": [
      "10\n",
      "20\n",
      "30\n"
     ]
    }
   ],
   "source": [
    "list = [10, 20, 30]\n",
    "for i in range (len(list)): # length of list is 3,  equivalent to \"for i in range (3):   i= 0,1,2,\n",
    "  print (list[i])"
   ]
  },
  {
   "cell_type": "code",
   "execution_count": 5,
   "metadata": {
    "colab": {
     "base_uri": "https://localhost:8080/",
     "height": 92
    },
    "executionInfo": {
     "elapsed": 1281,
     "status": "ok",
     "timestamp": 1601630606450,
     "user": {
      "displayName": "MJIIT ESE Info MJIIT, UTMKL",
      "photoUrl": "",
      "userId": "03310866122965297075"
     },
     "user_tz": -480
    },
    "id": "3gjhgHeXAJxf",
    "outputId": "077926e5-d7e6-46d8-b308-ac19e80f5014"
   },
   "outputs": [
    {
     "name": "stdout",
     "output_type": "stream",
     "text": [
      "a\n",
      "b\n",
      "c\n",
      "hello\n"
     ]
    }
   ],
   "source": [
    "list = [\"a\",\"b\",\"c\",\"hello\"]\n",
    "\n",
    "# Question 5\n",
    "# print value in list using for loop:\n"
   ]
  },
  {
   "cell_type": "code",
   "execution_count": null,
   "metadata": {},
   "outputs": [],
   "source": []
  }
 ],
 "metadata": {
  "colab": {
   "collapsed_sections": [],
   "name": "4. Loops.ipynb",
   "provenance": []
  },
  "kernelspec": {
   "display_name": "Python 3 (ipykernel)",
   "language": "python",
   "name": "python3"
  },
  "language_info": {
   "codemirror_mode": {
    "name": "ipython",
    "version": 3
   },
   "file_extension": ".py",
   "mimetype": "text/x-python",
   "name": "python",
   "nbconvert_exporter": "python",
   "pygments_lexer": "ipython3",
   "version": "3.10.12"
  }
 },
 "nbformat": 4,
 "nbformat_minor": 4
}
