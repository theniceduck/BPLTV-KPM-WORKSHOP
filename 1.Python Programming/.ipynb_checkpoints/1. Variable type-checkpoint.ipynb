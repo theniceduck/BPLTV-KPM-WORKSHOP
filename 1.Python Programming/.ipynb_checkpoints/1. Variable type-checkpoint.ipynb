{
 "cells": [
  {
   "cell_type": "markdown",
   "metadata": {
    "id": "sKO_PlPJLA9c"
   },
   "source": [
    "![alt](https://research.utm.my/wp-content/uploads/sites/26/2022/06/logo-300x122.png)\n",
    "# Center for Artificial Intelligence and Robotics\n",
    "#### Universiti Teknologi Malaysia\n",
    "\n",
    "\n",
    "### Python Variables\n",
    "\n",
    "*Author: Dr. Ibrahim, Azzam, Thaqif & Syahmi*\n",
    "\n",
    "**Lets Begin The Python Programming Today.**"
   ]
  },
  {
   "cell_type": "markdown",
   "metadata": {
    "id": "kYh2ZU6PTO5q"
   },
   "source": [
    "\n",
    "Variable and Types: There are a few common variable types in Python, which are str,** int** and* float.*"
   ]
  },
  {
   "cell_type": "code",
   "execution_count": 1,
   "metadata": {
    "id": "G_kYhOvlKGK2"
   },
   "outputs": [
    {
     "name": "stdout",
     "output_type": "stream",
     "text": [
      "This is a string.\n",
      "123\n",
      "123.45\n"
     ]
    }
   ],
   "source": [
    "string = \"This is a string.\"\n",
    "a_int = 123\n",
    "b_float = 123.45\n",
    "\n",
    "print (string)\n",
    "print (a_int)\n",
    "# QUESTION 1\n",
    "# print VARIABLE b_float"
   ]
  },
  {
   "cell_type": "markdown",
   "metadata": {
    "id": "HauPoODJM23B"
   },
   "source": [
    "**Note**: Never use a*** str*** number as*** int*** input, it will result in an error.\n",
    "\n"
   ]
  },
  {
   "cell_type": "code",
   "execution_count": 3,
   "metadata": {
    "id": "QCbTFt2kL0JC"
   },
   "outputs": [
    {
     "name": "stdout",
     "output_type": "stream",
     "text": [
      "1231\n"
     ]
    }
   ],
   "source": [
    "string = \"123\"\n",
    "sum = string + '1'\n",
    "print (sum)"
   ]
  },
  {
   "cell_type": "markdown",
   "metadata": {
    "id": "EBasals1NxjY"
   },
   "source": [
    "In this example, we modify the datatype from*** str*** to*** int*** and the code works again."
   ]
  },
  {
   "cell_type": "code",
   "execution_count": 4,
   "metadata": {
    "id": "yjIXbn3zNgB5"
   },
   "outputs": [
    {
     "name": "stdout",
     "output_type": "stream",
     "text": [
      "150\n"
     ]
    }
   ],
   "source": [
    "string = \"123\"\n",
    "# QUESTION 2\n",
    "# create sum variable as int and casting the string variable to be adding with 27 as int - then print sum"
   ]
  },
  {
   "cell_type": "markdown",
   "metadata": {
    "id": "YA6gKSSjOVFB"
   },
   "source": [
    "Similarly, you can do string conversion with ***str() ***and ***% operator ***and ***float()*** for float conversion."
   ]
  },
  {
   "cell_type": "code",
   "execution_count": 4,
   "metadata": {
    "id": "z7yXgqVlOdsY"
   },
   "outputs": [
    {
     "name": "stdout",
     "output_type": "stream",
     "text": [
      "124.45\n",
      "string2 = 123\n",
      "string3 = 123.45\n"
     ]
    }
   ],
   "source": [
    "string = \"123.45\"\n",
    "sum = float(string) + 1\n",
    "print (sum)\n",
    "\n",
    "a_int = 123\n",
    "string2 = \"string2 = \" + str(a_int)\n",
    "print (string2)\n",
    "\n",
    "b_float = 123.45\n",
    "string3 = \"string3 = %s\" % b_float\n",
    "print (string3)"
   ]
  },
  {
   "cell_type": "markdown",
   "metadata": {
    "id": "81uwCb9vSo5T"
   },
   "source": [
    "**String operations: **"
   ]
  },
  {
   "cell_type": "code",
   "execution_count": 5,
   "metadata": {
    "id": "2X-bFScOUOni"
   },
   "outputs": [
    {
     "name": "stdout",
     "output_type": "stream",
     "text": [
      "T\n",
      "This is a string\n",
      "THIS IS A STRING!\n",
      "17\n",
      "this is a string!\n",
      "his \n"
     ]
    }
   ],
   "source": [
    "# Content refering\n",
    "string = \"This is a string!\"\n",
    "print(string[0]) # This will refer to first letter which is \"T\", remember python index starts with 0 , not 1\n",
    "print (string[0:-1]) # This will print until one letter before last letter.\n",
    "# QUESTION 3\n",
    "# print the the length of the string.\n",
    "# Some additional self explainatory operations\n",
    "# QUESTION 4\n",
    "# print the string variable with all the letters in LOWER CASE\n",
    "# QUESTION 5\n",
    "# print from the second letter to the fourth character"
   ]
  },
  {
   "cell_type": "code",
   "execution_count": null,
   "metadata": {},
   "outputs": [],
   "source": []
  }
 ],
 "metadata": {
  "colab": {
   "provenance": []
  },
  "kernelspec": {
   "display_name": "Python 3 (ipykernel)",
   "language": "python",
   "name": "python3"
  },
  "language_info": {
   "codemirror_mode": {
    "name": "ipython",
    "version": 3
   },
   "file_extension": ".py",
   "mimetype": "text/x-python",
   "name": "python",
   "nbconvert_exporter": "python",
   "pygments_lexer": "ipython3",
   "version": "3.10.12"
  }
 },
 "nbformat": 4,
 "nbformat_minor": 4
}
