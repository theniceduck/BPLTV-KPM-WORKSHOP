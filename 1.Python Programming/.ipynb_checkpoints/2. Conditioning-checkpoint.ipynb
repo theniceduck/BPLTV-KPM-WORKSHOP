{
 "cells": [
  {
   "cell_type": "markdown",
   "metadata": {},
   "source": [
    "![alt](https://research.utm.my/wp-content/uploads/sites/26/2022/06/logo-300x122.png)\n",
    "# Center for Artificial Intelligence and Robotics\n",
    "#### Universiti Teknologi Malaysia\n",
    "\n",
    "\n",
    "### Python Logical Operators\n",
    "\n",
    "*Author: Dr. Ibrahim, Azzam, Thaqif & Syahmi*\n",
    "\n",
    "**Conditioning**"
   ]
  },
  {
   "cell_type": "markdown",
   "metadata": {
    "id": "23UGt99WtIA8"
   },
   "source": [
    "Python supports the usual logical conditions from mathematics:\n",
    "\n",
    "* Equal: a == b   \n",
    "* Not Equal: a != b\n",
    "* Less than: a < b\n",
    "* Less than or equal to: a <= b\n",
    "* Greater than: a > b\n",
    "* Greater than or equal to: a >= b\n",
    "\n",
    "\n",
    "\n"
   ]
  },
  {
   "cell_type": "markdown",
   "metadata": {
    "id": "UVfVn0x6uvQK"
   },
   "source": [
    "For conditioning, we will use ***if***, ***elif*** and ***else***."
   ]
  },
  {
   "cell_type": "code",
   "execution_count": 1,
   "metadata": {
    "colab": {
     "base_uri": "https://localhost:8080/"
    },
    "executionInfo": {
     "elapsed": 303,
     "status": "ok",
     "timestamp": 1646126774440,
     "user": {
      "displayName": "MOHD IBRAHIM BIN SHAPIAI@ABD.RAZAK MJIIT",
      "photoUrl": "https://lh3.googleusercontent.com/a-/AOh14GgGpJ3ee4XaoLeIv0DzFZ-KKGtqqETlzKAse-kArmac_k7yrWHrMn8JmENHVvefi2d6dbfSuoCVO5XHKy6Fiv-_zKTd8-YjivQ81GtgmL3szQ3KwTt8F6hSf3FSlnAX_tgeNKh-koa3i5_XL86rA8Wh8UKNIZH4AXyw0GkXYo6d45IR4pPPFKNkFzjzO1O1UDMtNr-stFZw8SEI2iosYWpYfKXRQ1SvPO3NXZ84VhkVDTdV9tN7jLczrBUtCue-CKCSJl5wayKo4uiKP7yaHpOl6b_L4rG3baUcIAmy85M1QK8MrhgDZ6HnYHibNNjJjZXaNbaGmnXCJ7-4b_yQnJYMQK_bCBxSnCH0MqenvQk6KgCTZkZX4-Gf7S8LcabSCW0pgK9s94emVzevmBHLqMNZLJRIqhFZUAyBGdfO1ZWo_tc5gAQo40KZCLEUIjoBQmbOKRUjABhFvZxiCNVa5CFepR8s2XbArl-ZmUreymFveTRjZcjbRBb6P31jp_NiT2-LcY9zZc499kTHVX8tsELIvsrHIuhOJnV5H7XQzUlwgqelbPZQES9xoPmSt5ADsfsjGWcdutyQghMfmASHEj5R2Q-gD84oyb0BEmlyKJhXlEkJbQPXOQFHy8nhw353dXjk3NmEd84fxFbDSJoDYn0N6jkVwz6NyoyrlEz5PaHAbrzYaCfbdweBqEQ6kpzcG9sa_zRVRZv3YYCk5pTWqXoQeXE5guycA2LwLVk4Lz73a-zuBeV5EePHrAuakF9c0_TjQg=s64",
      "userId": "01318899631218949735"
     },
     "user_tz": -480
    },
    "id": "08YIybYTtSdc",
    "outputId": "f0e58f52-b6f5-4fe6-c19c-9e668f588f81"
   },
   "outputs": [
    {
     "name": "stdout",
     "output_type": "stream",
     "text": [
      "Jenis data:  <class 'int'>\n",
      "a is larger\n"
     ]
    }
   ],
   "source": [
    "# Set any value (including float)\n",
    "a = 100\n",
    "print(\"Jenis data: \", type(a))\n",
    "b = 99.9\n",
    "\n",
    "if (a > b):\n",
    "  print (\"a is larger\")\n",
    "elif (a < b):\n",
    "  print (\"a is smaller\")\n",
    "else:\n",
    "  print (\"a and b are equal\")"
   ]
  },
  {
   "cell_type": "code",
   "execution_count": 2,
   "metadata": {
    "id": "QD1y48MISfGr"
   },
   "outputs": [],
   "source": [
    "# Question 1\n",
    "# Create another example which is a = 81.7 and b = 50 :\n"
   ]
  },
  {
   "cell_type": "markdown",
   "metadata": {
    "id": "9bsnO3WDu36z"
   },
   "source": [
    "For multiple statements, Boolean operators \"***and or***\" can  used."
   ]
  },
  {
   "cell_type": "code",
   "execution_count": 3,
   "metadata": {
    "id": "ffLcIdejvJxC"
   },
   "outputs": [
    {
     "name": "stdout",
     "output_type": "stream",
     "text": [
      "a is larger or a is greater than 100\n"
     ]
    }
   ],
   "source": [
    "a = 100\n",
    "b = 99.9\n",
    "\n",
    "if (a > b) and (a < 100):\n",
    "  print (\"a is larger but smaller than 100\")\n",
    "elif (a > b) or (a > 100):\n",
    "  print (\"a is larger or a is greater than 100\")\n",
    "else:\n",
    "  print (\"b is larger\")"
   ]
  },
  {
   "cell_type": "code",
   "execution_count": 4,
   "metadata": {
    "id": "cm6qfjR6TJAo"
   },
   "outputs": [],
   "source": [
    "# Question 2\n",
    "# Create another example which is a = 81.7 and b = 50 :\n"
   ]
  },
  {
   "cell_type": "markdown",
   "metadata": {
    "id": "BsGY3LA5w1E4"
   },
   "source": [
    "**Try except** is another type of conditioning used to test the code in the try block, if there is an error, the code in except block will execute instead. The **finally** block lets you execute code, regardless of the result of the try and except blocks.\n",
    "\n"
   ]
  },
  {
   "cell_type": "code",
   "execution_count": 5,
   "metadata": {
    "colab": {
     "base_uri": "https://localhost:8080/",
     "height": 55
    },
    "executionInfo": {
     "elapsed": 934,
     "status": "ok",
     "timestamp": 1601628852727,
     "user": {
      "displayName": "MJIIT ESE Info MJIIT, UTMKL",
      "photoUrl": "",
      "userId": "03310866122965297075"
     },
     "user_tz": -480
    },
    "id": "cxnT1yPlxS8P",
    "outputId": "b1788a09-75ac-405a-c092-d4ba221626a4"
   },
   "outputs": [
    {
     "name": "stdout",
     "output_type": "stream",
     "text": [
      "datatype error\n",
      "2\n"
     ]
    }
   ],
   "source": [
    "variable = \"1\"\n",
    "\n",
    "try:\n",
    "  sum = variable + k\n",
    "  \n",
    "except:\n",
    "  print ('datatype error')\n",
    "  sum = int (variable) +1\n",
    "finally:\n",
    "  print (sum)"
   ]
  },
  {
   "cell_type": "code",
   "execution_count": 6,
   "metadata": {
    "id": "G9tgwqLfTSJi"
   },
   "outputs": [],
   "source": [
    "# Question 3\n",
    "# Create another example which is variable = \"53\" :\n"
   ]
  },
  {
   "cell_type": "markdown",
   "metadata": {
    "id": "Db0LGwHWphMq"
   },
   "source": [
    "**Nested If**\n",
    "\n",
    "You can have** if statements** inside **if statements**, this is called **nested if statements.**"
   ]
  },
  {
   "cell_type": "code",
   "execution_count": 7,
   "metadata": {
    "id": "tGhzp7vPpfA_"
   },
   "outputs": [
    {
     "name": "stdout",
     "output_type": "stream",
     "text": [
      "Above ten,\n",
      "but not above 60.\n"
     ]
    }
   ],
   "source": [
    "x = 41\n",
    "\n",
    "if x > 10:\n",
    "  print(\"Above ten,\")\n",
    "  if x > 60:\n",
    "    print(\"and also above 60!\")\n",
    "  else:\n",
    "    print(\"but not above 60.\")"
   ]
  },
  {
   "cell_type": "code",
   "execution_count": 8,
   "metadata": {
    "id": "yilRNUukTqrP"
   },
   "outputs": [],
   "source": [
    "# Question 4\n",
    "# Create another example which is x = 5:\n"
   ]
  },
  {
   "cell_type": "markdown",
   "metadata": {
    "id": "WD4WqmHnqLO5"
   },
   "source": [
    "**The pass Statement**\n",
    "\n",
    "**if statements** cannot be empty, but if you for some reason have an **if statement** with no content, put in the **pass statement** to avoid getting an **error.**"
   ]
  },
  {
   "cell_type": "code",
   "execution_count": 9,
   "metadata": {
    "id": "mA1pnVsqqKCZ"
   },
   "outputs": [],
   "source": [
    "a = 33\n",
    "b = 200\n",
    "\n",
    "if b > a:\n",
    "  pass"
   ]
  },
  {
   "cell_type": "code",
   "execution_count": 10,
   "metadata": {
    "id": "-19YR6pJT5GP"
   },
   "outputs": [],
   "source": [
    "# Question 5\n",
    "# Create another example which is a = 81.7 and b = 50 :\n"
   ]
  }
 ],
 "metadata": {
  "colab": {
   "collapsed_sections": [],
   "name": "2. Conditioning.ipynb",
   "provenance": []
  },
  "kernelspec": {
   "display_name": "Python 3 (ipykernel)",
   "language": "python",
   "name": "python3"
  },
  "language_info": {
   "codemirror_mode": {
    "name": "ipython",
    "version": 3
   },
   "file_extension": ".py",
   "mimetype": "text/x-python",
   "name": "python",
   "nbconvert_exporter": "python",
   "pygments_lexer": "ipython3",
   "version": "3.10.12"
  }
 },
 "nbformat": 4,
 "nbformat_minor": 4
}
