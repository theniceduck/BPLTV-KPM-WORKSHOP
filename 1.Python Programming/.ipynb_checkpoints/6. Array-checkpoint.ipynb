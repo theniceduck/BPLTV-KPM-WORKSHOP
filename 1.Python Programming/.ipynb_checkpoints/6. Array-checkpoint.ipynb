{
 "cells": [
  {
   "cell_type": "markdown",
   "metadata": {},
   "source": [
    "![alt](https://research.utm.my/wp-content/uploads/sites/26/2022/06/logo-300x122.png)\n",
    "# Center for Artificial Intelligence and Robotics\n",
    "#### Universiti Teknologi Malaysia\n",
    "\n",
    "\n",
    "### Python Arrays\n",
    "\n",
    "*Author: Dr. Ibrahim, Azzam, Thaqif & Syahmi*"
   ]
  },
  {
   "cell_type": "markdown",
   "metadata": {
    "id": "gaMSZg9s20o5"
   },
   "source": [
    "An array is a collection of items stored at contiguous memory locations. The idea is to store multiple items of the same type together. This makes it easier to calculate the position of each element by simply adding an offset to a base value, i.e., the memory location of the first element of the array (generally denoted by the name of the array).\n",
    "\n",
    "Arrays are used to store multiple values in one single variable as LIST.\n",
    "\n",
    "An array can hold many values under a single name, and you can access the values by referring to an index number."
   ]
  },
  {
   "cell_type": "code",
   "execution_count": 1,
   "metadata": {
    "executionInfo": {
     "elapsed": 15528,
     "status": "ok",
     "timestamp": 1602209144274,
     "user": {
      "displayName": "MJIIT ESE Info MJIIT, UTMKL",
      "photoUrl": "",
      "userId": "03310866122965297075"
     },
     "user_tz": -480
    },
    "id": "Lgm4niZLXhVe"
   },
   "outputs": [],
   "source": [
    "# Question 1\n",
    "# Create an array of cars :"
   ]
  },
  {
   "cell_type": "code",
   "execution_count": null,
   "metadata": {
    "id": "RurEYIDUX3mz"
   },
   "outputs": [],
   "source": [
    "# Question 2\n",
    "# Modify the value of second array item with another cars brand:\n"
   ]
  },
  {
   "cell_type": "markdown",
   "metadata": {
    "id": "IRS837SU3iBm"
   },
   "source": [
    "**Looping Array Elements**\n",
    "\n",
    "You can use the **for in loop** to loop through all the elements of an array."
   ]
  },
  {
   "cell_type": "code",
   "execution_count": null,
   "metadata": {
    "id": "I_2ueQhvYM8w"
   },
   "outputs": [],
   "source": [
    "# Question 3\n",
    "# Print all the car brand in the array using for loop :\n"
   ]
  },
  {
   "cell_type": "markdown",
   "metadata": {
    "id": "nPlq6OyL3uin"
   },
   "source": [
    "**Adding Array Elements**\n",
    "\n",
    "You can use the **append()** method to add an element to an array."
   ]
  },
  {
   "cell_type": "code",
   "execution_count": null,
   "metadata": {
    "id": "veaXbgM3YZSZ"
   },
   "outputs": [],
   "source": [
    "# Question 4\n",
    "# Adding new cars into the array :\n"
   ]
  },
  {
   "cell_type": "markdown",
   "metadata": {
    "id": "EE7OZZ2D4Mus"
   },
   "source": [
    "**Removing Array Elements**\n",
    "\n",
    "You can use the **pop()** method to remove an element from the array."
   ]
  },
  {
   "cell_type": "code",
   "execution_count": null,
   "metadata": {
    "id": "dlhAXuav4Usu"
   },
   "outputs": [],
   "source": [
    "cars = [\"Ford\", \"Volvo\", \"BMW\"]\n",
    "\n",
    "cars.pop(1)\n",
    "\n",
    "print(cars)"
   ]
  },
  {
   "cell_type": "markdown",
   "metadata": {
    "id": "KBrfaPde5BCV"
   },
   "source": [
    "You can also use the **remove()** method to remove an element from the array."
   ]
  },
  {
   "cell_type": "code",
   "execution_count": null,
   "metadata": {
    "id": "rOqn4d1aYn6J"
   },
   "outputs": [],
   "source": [
    "# Question 5\n",
    "# Remove any cars from the array using pop() or remove() method :\n"
   ]
  }
 ],
 "metadata": {
  "colab": {
   "collapsed_sections": [],
   "name": " Arrary.ipynb",
   "provenance": []
  },
  "kernelspec": {
   "display_name": "Python 3 (ipykernel)",
   "language": "python",
   "name": "python3"
  },
  "language_info": {
   "codemirror_mode": {
    "name": "ipython",
    "version": 3
   },
   "file_extension": ".py",
   "mimetype": "text/x-python",
   "name": "python",
   "nbconvert_exporter": "python",
   "pygments_lexer": "ipython3",
   "version": "3.10.12"
  }
 },
 "nbformat": 4,
 "nbformat_minor": 4
}
