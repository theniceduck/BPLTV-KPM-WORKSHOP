{
 "cells": [
  {
   "cell_type": "markdown",
   "metadata": {},
   "source": [
    "![alt](https://research.utm.my/wp-content/uploads/sites/26/2022/06/logo-300x122.png)\n",
    "# Center for Artificial Intelligence and Robotics\n",
    "#### Universiti Teknologi Malaysia\n",
    "\n",
    "\n",
    "### Python Import System\n",
    "\n",
    "*Author: Dr. Ibrahim, Azzam, Thaqif & Syahmi*\n",
    "\n",
    "**Import, Modules and Package**"
   ]
  },
  {
   "cell_type": "markdown",
   "metadata": {
    "id": "feJaG5aAxFgj"
   },
   "source": [
    "In this section, we will discuss on a few common type of import usage. First we mount code the google drive"
   ]
  },
  {
   "cell_type": "code",
   "execution_count": null,
   "metadata": {
    "id": "xdB883McvQDj"
   },
   "outputs": [],
   "source": [
    "# Installing packages (mxnet)\n",
    "!pip uninstall -y mxnet\n",
    "!pip install mxnet"
   ]
  },
  {
   "cell_type": "code",
   "execution_count": null,
   "metadata": {},
   "outputs": [],
   "source": [
    "import os\n",
    "\n",
    "os.environ['LD_LIBRARY_PATH'] = os.environ.get('LD_LIBRARY_PATH', '') + ':/opt/arm/armpl_24.04_gcc/lib'"
   ]
  },
  {
   "cell_type": "code",
   "execution_count": 1,
   "metadata": {
    "colab": {
     "base_uri": "https://localhost:8080/",
     "height": 118
    },
    "executionInfo": {
     "elapsed": 3579,
     "status": "ok",
     "timestamp": 1587118465681,
     "user": {
      "displayName": "MOHD IBRAHIM BIN SHAPIAI@ABD.RAZAK MJIIT",
      "photoUrl": "https://lh3.googleusercontent.com/a-/AOh14GhGSaPTaNYth0R-Wdp227g5AEp17sMtE4shEyNlRCEqV2QjNIvBld5U5ZuG0090mB7GXbhY0EkQIW56SkgeOigczF2SwsdltJZi4qsx_jXOQfaobNh6Z1ek3b-lhR85iDYT2VR8tjFlkIlagDAv74adJ3UROh5sCI5LdOwltE59mdj1zc3xlQGlZFwPqexxvuHtbasr3-hO48HJIV1oFd3vcMRQ1_uA90d-Z4drBMxLkb7o_G0Hl-uOim0XTAYIbff8Oaw-GwobTPhaZjT1vqKVCBIXGTDE3zq7ZU9QBV2_Fnxalqm4wOOLqcyzIEBHxykQ2nf1q_5d_5LKfDwyNwsYxtigqCPXzCNUI0lGg1_aVb0TKYP7FrgfPmBH4x598AfoWEYdRkOJmtGLegN-ilUI3Q6kixFWS7fUlsQ626w9bSCAYHpMd8SOPzeWXbJjKEKeZYw9qNB3ck8iIw7Q9_XBzDRIbx7LNhwfPXJYXCfoGrvg2LI-DjMzU2mZuZg-msW4jVbtpEvwTgRDU4U3cm4UN5VWQyJhnxnyCv4eABufqNfggVs2kd9q3pn_9qsmyKs0yIkSKUxdFoggAMMVuijmT_4oREvO79bL1-r53HOxncSKjAYzGz4katIYgq1jVnPMoQPBbnI08rkQF4XoXtA9lrGH_BHz6C0L9AdzJoGB3YTgW_LBCo31e8CVYAUn2PJnXYQlIVyOLv6C8UvHxTjZjSBHSYJwv7ikFWzfK4ZCmw7wDkpp_GP7P6t22Ap_fv1rMA=s64",
      "userId": "01318899631218949735"
     },
     "user_tz": -480
    },
    "id": "BpZbol_iwVdS",
    "outputId": "1cf63985-e882-468e-952e-4023ea3b87c5"
   },
   "outputs": [
    {
     "ename": "OSError",
     "evalue": "libarmpl_lp64_mp.so: cannot open shared object file: No such file or directory",
     "output_type": "error",
     "traceback": [
      "\u001b[0;31m---------------------------------------------------------------------------\u001b[0m",
      "\u001b[0;31mOSError\u001b[0m                                   Traceback (most recent call last)",
      "Cell \u001b[0;32mIn[1], line 2\u001b[0m\n\u001b[1;32m      1\u001b[0m \u001b[38;5;66;03m# The most common import\u001b[39;00m\n\u001b[0;32m----> 2\u001b[0m \u001b[38;5;28;01mimport\u001b[39;00m \u001b[38;5;21;01mmxnet\u001b[39;00m\n\u001b[1;32m      4\u001b[0m \u001b[38;5;66;03m# Testing mxnet using nd array operations\u001b[39;00m\n\u001b[1;32m      5\u001b[0m x\u001b[38;5;241m=\u001b[39m mxnet\u001b[38;5;241m.\u001b[39mnd\u001b[38;5;241m.\u001b[39marray ([\u001b[38;5;241m1\u001b[39m,\u001b[38;5;241m2\u001b[39m,\u001b[38;5;241m3\u001b[39m])\n",
      "File \u001b[0;32m/usr/local/lib/python3.10/dist-packages/mxnet/__init__.py:23\u001b[0m\n\u001b[1;32m      1\u001b[0m \u001b[38;5;66;03m#!/usr/bin/env python\u001b[39;00m\n\u001b[1;32m      2\u001b[0m \n\u001b[1;32m      3\u001b[0m \u001b[38;5;66;03m# Licensed to the Apache Software Foundation (ASF) under one\u001b[39;00m\n\u001b[0;32m   (...)\u001b[0m\n\u001b[1;32m     19\u001b[0m \n\u001b[1;32m     20\u001b[0m \u001b[38;5;66;03m# coding: utf-8\u001b[39;00m\n\u001b[1;32m     21\u001b[0m \u001b[38;5;124;03m\"\"\"MXNet: a concise, fast and flexible framework for deep learning.\"\"\"\u001b[39;00m\n\u001b[0;32m---> 23\u001b[0m \u001b[38;5;28;01mfrom\u001b[39;00m \u001b[38;5;21;01m.\u001b[39;00m\u001b[38;5;21;01mcontext\u001b[39;00m \u001b[38;5;28;01mimport\u001b[39;00m Context, current_context, cpu, gpu, cpu_pinned\n\u001b[1;32m     24\u001b[0m \u001b[38;5;28;01mfrom\u001b[39;00m \u001b[38;5;21;01m.\u001b[39;00m \u001b[38;5;28;01mimport\u001b[39;00m engine, error\n\u001b[1;32m     25\u001b[0m \u001b[38;5;28;01mfrom\u001b[39;00m \u001b[38;5;21;01m.\u001b[39;00m\u001b[38;5;21;01mbase\u001b[39;00m \u001b[38;5;28;01mimport\u001b[39;00m MXNetError\n",
      "File \u001b[0;32m/usr/local/lib/python3.10/dist-packages/mxnet/context.py:23\u001b[0m\n\u001b[1;32m     21\u001b[0m \u001b[38;5;28;01mimport\u001b[39;00m \u001b[38;5;21;01mwarnings\u001b[39;00m\n\u001b[1;32m     22\u001b[0m \u001b[38;5;28;01mimport\u001b[39;00m \u001b[38;5;21;01mctypes\u001b[39;00m\n\u001b[0;32m---> 23\u001b[0m \u001b[38;5;28;01mfrom\u001b[39;00m \u001b[38;5;21;01m.\u001b[39;00m\u001b[38;5;21;01mbase\u001b[39;00m \u001b[38;5;28;01mimport\u001b[39;00m classproperty, with_metaclass, _MXClassPropertyMetaClass\n\u001b[1;32m     24\u001b[0m \u001b[38;5;28;01mfrom\u001b[39;00m \u001b[38;5;21;01m.\u001b[39;00m\u001b[38;5;21;01mbase\u001b[39;00m \u001b[38;5;28;01mimport\u001b[39;00m _LIB\n\u001b[1;32m     25\u001b[0m \u001b[38;5;28;01mfrom\u001b[39;00m \u001b[38;5;21;01m.\u001b[39;00m\u001b[38;5;21;01mbase\u001b[39;00m \u001b[38;5;28;01mimport\u001b[39;00m check_call\n",
      "File \u001b[0;32m/usr/local/lib/python3.10/dist-packages/mxnet/base.py:356\u001b[0m\n\u001b[1;32m    354\u001b[0m __version__ \u001b[38;5;241m=\u001b[39m libinfo\u001b[38;5;241m.\u001b[39m__version__\n\u001b[1;32m    355\u001b[0m \u001b[38;5;66;03m# library instance of mxnet\u001b[39;00m\n\u001b[0;32m--> 356\u001b[0m _LIB \u001b[38;5;241m=\u001b[39m \u001b[43m_load_lib\u001b[49m\u001b[43m(\u001b[49m\u001b[43m)\u001b[49m\n\u001b[1;32m    358\u001b[0m \u001b[38;5;66;03m# type definitions\u001b[39;00m\n\u001b[1;32m    359\u001b[0m mx_int \u001b[38;5;241m=\u001b[39m ctypes\u001b[38;5;241m.\u001b[39mc_int\n",
      "File \u001b[0;32m/usr/local/lib/python3.10/dist-packages/mxnet/base.py:347\u001b[0m, in \u001b[0;36m_load_lib\u001b[0;34m()\u001b[0m\n\u001b[1;32m    345\u001b[0m     lib \u001b[38;5;241m=\u001b[39m ctypes\u001b[38;5;241m.\u001b[39mCDLL(lib_path[\u001b[38;5;241m0\u001b[39m], winmode\u001b[38;5;241m=\u001b[39m\u001b[38;5;241m0x00000008\u001b[39m)\n\u001b[1;32m    346\u001b[0m \u001b[38;5;28;01melse\u001b[39;00m:\n\u001b[0;32m--> 347\u001b[0m     lib \u001b[38;5;241m=\u001b[39m \u001b[43mctypes\u001b[49m\u001b[38;5;241;43m.\u001b[39;49m\u001b[43mCDLL\u001b[49m\u001b[43m(\u001b[49m\u001b[43mlib_path\u001b[49m\u001b[43m[\u001b[49m\u001b[38;5;241;43m0\u001b[39;49m\u001b[43m]\u001b[49m\u001b[43m,\u001b[49m\u001b[43m \u001b[49m\u001b[43mctypes\u001b[49m\u001b[38;5;241;43m.\u001b[39;49m\u001b[43mRTLD_LOCAL\u001b[49m\u001b[43m)\u001b[49m\n\u001b[1;32m    348\u001b[0m \u001b[38;5;66;03m# DMatrix functions\u001b[39;00m\n\u001b[1;32m    349\u001b[0m lib\u001b[38;5;241m.\u001b[39mMXGetLastError\u001b[38;5;241m.\u001b[39mrestype \u001b[38;5;241m=\u001b[39m ctypes\u001b[38;5;241m.\u001b[39mc_char_p\n",
      "File \u001b[0;32m/usr/lib/python3.10/ctypes/__init__.py:374\u001b[0m, in \u001b[0;36mCDLL.__init__\u001b[0;34m(self, name, mode, handle, use_errno, use_last_error, winmode)\u001b[0m\n\u001b[1;32m    371\u001b[0m \u001b[38;5;28mself\u001b[39m\u001b[38;5;241m.\u001b[39m_FuncPtr \u001b[38;5;241m=\u001b[39m _FuncPtr\n\u001b[1;32m    373\u001b[0m \u001b[38;5;28;01mif\u001b[39;00m handle \u001b[38;5;129;01mis\u001b[39;00m \u001b[38;5;28;01mNone\u001b[39;00m:\n\u001b[0;32m--> 374\u001b[0m     \u001b[38;5;28mself\u001b[39m\u001b[38;5;241m.\u001b[39m_handle \u001b[38;5;241m=\u001b[39m \u001b[43m_dlopen\u001b[49m\u001b[43m(\u001b[49m\u001b[38;5;28;43mself\u001b[39;49m\u001b[38;5;241;43m.\u001b[39;49m\u001b[43m_name\u001b[49m\u001b[43m,\u001b[49m\u001b[43m \u001b[49m\u001b[43mmode\u001b[49m\u001b[43m)\u001b[49m\n\u001b[1;32m    375\u001b[0m \u001b[38;5;28;01melse\u001b[39;00m:\n\u001b[1;32m    376\u001b[0m     \u001b[38;5;28mself\u001b[39m\u001b[38;5;241m.\u001b[39m_handle \u001b[38;5;241m=\u001b[39m handle\n",
      "\u001b[0;31mOSError\u001b[0m: libarmpl_lp64_mp.so: cannot open shared object file: No such file or directory"
     ]
    }
   ],
   "source": [
    "# The most common import\n",
    "import mxnet\n",
    "\n",
    "# Testing mxnet using nd array operations\n",
    "x= mxnet.nd.array ([1,2,3])\n",
    "print (x)\n",
    "\n",
    "# Change the name of packages using \"as\", mostly used to shorten the name of package\n",
    "import mxnet as mx\n",
    "\n",
    "# Replace mxnet with mx\n",
    "x= mx.nd.array ([1,2,3])\n",
    "print (x)\n",
    "\n",
    "# From somewhere else import packages or functions\n",
    "from matplotlib import pyplot as plt\n",
    "\n",
    "# These two imports refer to the same library, pyplot\n",
    "from matplotlib import pyplot as plt\n",
    "import matplotlib.pyplot as plt\n"
   ]
  },
  {
   "cell_type": "markdown",
   "metadata": {
    "id": "tvhfc_QwUGWV"
   },
   "source": [
    "**Numpy:**\n",
    "Numpy arrays are great alternatives to Python Lists. Some of the key advantages of Numpy arrays are that they are fast, easy to work with, and give users the opportunity to perform calculations across entire arrays.\n",
    "\n"
   ]
  },
  {
   "cell_type": "code",
   "execution_count": null,
   "metadata": {
    "colab": {
     "base_uri": "https://localhost:8080/",
     "height": 50
    },
    "executionInfo": {
     "elapsed": 1077,
     "status": "ok",
     "timestamp": 1587118534105,
     "user": {
      "displayName": "MOHD IBRAHIM BIN SHAPIAI@ABD.RAZAK MJIIT",
      "photoUrl": "https://lh3.googleusercontent.com/a-/AOh14GhGSaPTaNYth0R-Wdp227g5AEp17sMtE4shEyNlRCEqV2QjNIvBld5U5ZuG0090mB7GXbhY0EkQIW56SkgeOigczF2SwsdltJZi4qsx_jXOQfaobNh6Z1ek3b-lhR85iDYT2VR8tjFlkIlagDAv74adJ3UROh5sCI5LdOwltE59mdj1zc3xlQGlZFwPqexxvuHtbasr3-hO48HJIV1oFd3vcMRQ1_uA90d-Z4drBMxLkb7o_G0Hl-uOim0XTAYIbff8Oaw-GwobTPhaZjT1vqKVCBIXGTDE3zq7ZU9QBV2_Fnxalqm4wOOLqcyzIEBHxykQ2nf1q_5d_5LKfDwyNwsYxtigqCPXzCNUI0lGg1_aVb0TKYP7FrgfPmBH4x598AfoWEYdRkOJmtGLegN-ilUI3Q6kixFWS7fUlsQ626w9bSCAYHpMd8SOPzeWXbJjKEKeZYw9qNB3ck8iIw7Q9_XBzDRIbx7LNhwfPXJYXCfoGrvg2LI-DjMzU2mZuZg-msW4jVbtpEvwTgRDU4U3cm4UN5VWQyJhnxnyCv4eABufqNfggVs2kd9q3pn_9qsmyKs0yIkSKUxdFoggAMMVuijmT_4oREvO79bL1-r53HOxncSKjAYzGz4katIYgq1jVnPMoQPBbnI08rkQF4XoXtA9lrGH_BHz6C0L9AdzJoGB3YTgW_LBCo31e8CVYAUn2PJnXYQlIVyOLv6C8UvHxTjZjSBHSYJwv7ikFWzfK4ZCmw7wDkpp_GP7P6t22Ap_fv1rMA=s64",
      "userId": "01318899631218949735"
     },
     "user_tz": -480
    },
    "id": "Y5wPQBcyUMBr",
    "outputId": "c0bf6cc8-7d2a-48fd-91c7-0e0ba4f39cb9"
   },
   "outputs": [],
   "source": [
    "# Create 2 new lists height and weight\n",
    "height = [1.87,  1.87, 1.82, 1.91, 1.90, 1.85]\n",
    "weight = [81.65, 97.52, 95.25, 92.98, 86.18, 88.45]\n",
    "\n",
    "# Import the numpy package as np\n",
    "import numpy as np\n",
    "\n",
    "# Create 2 numpy arrays from height and weight\n",
    "np_height = np.array(height)\n",
    "np_weight = np.array(weight)\n",
    "\n",
    "print (np_height)\n",
    "print (np_weight)"
   ]
  },
  {
   "cell_type": "code",
   "execution_count": null,
   "metadata": {
    "colab": {
     "base_uri": "https://localhost:8080/",
     "height": 34
    },
    "executionInfo": {
     "elapsed": 1315,
     "status": "ok",
     "timestamp": 1587118539594,
     "user": {
      "displayName": "MOHD IBRAHIM BIN SHAPIAI@ABD.RAZAK MJIIT",
      "photoUrl": "https://lh3.googleusercontent.com/a-/AOh14GhGSaPTaNYth0R-Wdp227g5AEp17sMtE4shEyNlRCEqV2QjNIvBld5U5ZuG0090mB7GXbhY0EkQIW56SkgeOigczF2SwsdltJZi4qsx_jXOQfaobNh6Z1ek3b-lhR85iDYT2VR8tjFlkIlagDAv74adJ3UROh5sCI5LdOwltE59mdj1zc3xlQGlZFwPqexxvuHtbasr3-hO48HJIV1oFd3vcMRQ1_uA90d-Z4drBMxLkb7o_G0Hl-uOim0XTAYIbff8Oaw-GwobTPhaZjT1vqKVCBIXGTDE3zq7ZU9QBV2_Fnxalqm4wOOLqcyzIEBHxykQ2nf1q_5d_5LKfDwyNwsYxtigqCPXzCNUI0lGg1_aVb0TKYP7FrgfPmBH4x598AfoWEYdRkOJmtGLegN-ilUI3Q6kixFWS7fUlsQ626w9bSCAYHpMd8SOPzeWXbJjKEKeZYw9qNB3ck8iIw7Q9_XBzDRIbx7LNhwfPXJYXCfoGrvg2LI-DjMzU2mZuZg-msW4jVbtpEvwTgRDU4U3cm4UN5VWQyJhnxnyCv4eABufqNfggVs2kd9q3pn_9qsmyKs0yIkSKUxdFoggAMMVuijmT_4oREvO79bL1-r53HOxncSKjAYzGz4katIYgq1jVnPMoQPBbnI08rkQF4XoXtA9lrGH_BHz6C0L9AdzJoGB3YTgW_LBCo31e8CVYAUn2PJnXYQlIVyOLv6C8UvHxTjZjSBHSYJwv7ikFWzfK4ZCmw7wDkpp_GP7P6t22Ap_fv1rMA=s64",
      "userId": "01318899631218949735"
     },
     "user_tz": -480
    },
    "id": "PSi_PmqYUkU6",
    "outputId": "91d6d05d-2ec2-45d1-fdaf-9b0762be35f4"
   },
   "outputs": [],
   "source": [
    "# Element-wise calculations\n",
    "# Calculate bmi\n",
    "bmi = np_weight / np_height ** 2\n",
    "\n",
    "# Print the result\n",
    "print(bmi)"
   ]
  },
  {
   "cell_type": "markdown",
   "metadata": {
    "id": "3Ndq1T_gVApq"
   },
   "source": [
    "Another great feature of Numpy arrays is the ability to subset. For instance, if you wanted to know which observations in our BMI array are above 24, we could quickly subset it to find out."
   ]
  },
  {
   "cell_type": "code",
   "execution_count": null,
   "metadata": {
    "colab": {
     "base_uri": "https://localhost:8080/",
     "height": 34
    },
    "executionInfo": {
     "elapsed": 1144,
     "status": "ok",
     "timestamp": 1587118560900,
     "user": {
      "displayName": "MOHD IBRAHIM BIN SHAPIAI@ABD.RAZAK MJIIT",
      "photoUrl": "https://lh3.googleusercontent.com/a-/AOh14GhGSaPTaNYth0R-Wdp227g5AEp17sMtE4shEyNlRCEqV2QjNIvBld5U5ZuG0090mB7GXbhY0EkQIW56SkgeOigczF2SwsdltJZi4qsx_jXOQfaobNh6Z1ek3b-lhR85iDYT2VR8tjFlkIlagDAv74adJ3UROh5sCI5LdOwltE59mdj1zc3xlQGlZFwPqexxvuHtbasr3-hO48HJIV1oFd3vcMRQ1_uA90d-Z4drBMxLkb7o_G0Hl-uOim0XTAYIbff8Oaw-GwobTPhaZjT1vqKVCBIXGTDE3zq7ZU9QBV2_Fnxalqm4wOOLqcyzIEBHxykQ2nf1q_5d_5LKfDwyNwsYxtigqCPXzCNUI0lGg1_aVb0TKYP7FrgfPmBH4x598AfoWEYdRkOJmtGLegN-ilUI3Q6kixFWS7fUlsQ626w9bSCAYHpMd8SOPzeWXbJjKEKeZYw9qNB3ck8iIw7Q9_XBzDRIbx7LNhwfPXJYXCfoGrvg2LI-DjMzU2mZuZg-msW4jVbtpEvwTgRDU4U3cm4UN5VWQyJhnxnyCv4eABufqNfggVs2kd9q3pn_9qsmyKs0yIkSKUxdFoggAMMVuijmT_4oREvO79bL1-r53HOxncSKjAYzGz4katIYgq1jVnPMoQPBbnI08rkQF4XoXtA9lrGH_BHz6C0L9AdzJoGB3YTgW_LBCo31e8CVYAUn2PJnXYQlIVyOLv6C8UvHxTjZjSBHSYJwv7ikFWzfK4ZCmw7wDkpp_GP7P6t22Ap_fv1rMA=s64",
      "userId": "01318899631218949735"
     },
     "user_tz": -480
    },
    "id": "HaNWsXewVCP8",
    "outputId": "02838451-2fa0-4920-9a1c-28ec28ed7c78"
   },
   "outputs": [],
   "source": [
    "# For a boolean response\n",
    "bmi > 24\n",
    "\n",
    "# Print only those observations above 24\n",
    "bmi[bmi > 24]"
   ]
  },
  {
   "cell_type": "markdown",
   "metadata": {
    "id": "HQtIcePYVWpJ"
   },
   "source": [
    "**Panda DataFrames**:\n",
    "Pandas is a high-level data manipulation tool developed by Wes McKinney. It is built on the Numpy package and its key data structure is called the DataFrame. DataFrames allow you to store and manipulate tabular data in rows of observations and columns of variables.\n",
    "\n",
    "There are several ways to create a DataFrame. One way way is to use a dictionary."
   ]
  },
  {
   "cell_type": "code",
   "execution_count": null,
   "metadata": {
    "id": "QTLUSzvUVhhp"
   },
   "outputs": [],
   "source": [
    "dict = {\"country\": [\"Brazil\", \"Russia\", \"India\", \"China\", \"South Africa\"],\n",
    "       \"capital\": [\"Brasilia\", \"Moscow\", \"New Dehli\", \"Beijing\", \"Pretoria\"],\n",
    "       \"area\": [8.516, 17.10, 3.286, 9.597, 1.221],\n",
    "       \"population\": [200.4, 143.5, 1252, 1357, 52.98] }\n",
    "\n",
    "import pandas as pd\n",
    "brics = pd.DataFrame(dict)\n",
    "# Question 1\n",
    "# print the brics\n",
    "\n"
   ]
  },
  {
   "cell_type": "markdown",
   "metadata": {
    "id": "cR7rmL9HVvHn"
   },
   "source": [
    "As you can see with the new brics DataFrame, Pandas has assigned a key for each country as the numerical values 0 through 4. If you would like to have different index values, say, the two letter country code, you can do that easily as well."
   ]
  },
  {
   "cell_type": "code",
   "execution_count": null,
   "metadata": {
    "colab": {
     "base_uri": "https://localhost:8080/",
     "height": 118
    },
    "executionInfo": {
     "elapsed": 1324,
     "status": "ok",
     "timestamp": 1587118749317,
     "user": {
      "displayName": "MOHD IBRAHIM BIN SHAPIAI@ABD.RAZAK MJIIT",
      "photoUrl": "https://lh3.googleusercontent.com/a-/AOh14GhGSaPTaNYth0R-Wdp227g5AEp17sMtE4shEyNlRCEqV2QjNIvBld5U5ZuG0090mB7GXbhY0EkQIW56SkgeOigczF2SwsdltJZi4qsx_jXOQfaobNh6Z1ek3b-lhR85iDYT2VR8tjFlkIlagDAv74adJ3UROh5sCI5LdOwltE59mdj1zc3xlQGlZFwPqexxvuHtbasr3-hO48HJIV1oFd3vcMRQ1_uA90d-Z4drBMxLkb7o_G0Hl-uOim0XTAYIbff8Oaw-GwobTPhaZjT1vqKVCBIXGTDE3zq7ZU9QBV2_Fnxalqm4wOOLqcyzIEBHxykQ2nf1q_5d_5LKfDwyNwsYxtigqCPXzCNUI0lGg1_aVb0TKYP7FrgfPmBH4x598AfoWEYdRkOJmtGLegN-ilUI3Q6kixFWS7fUlsQ626w9bSCAYHpMd8SOPzeWXbJjKEKeZYw9qNB3ck8iIw7Q9_XBzDRIbx7LNhwfPXJYXCfoGrvg2LI-DjMzU2mZuZg-msW4jVbtpEvwTgRDU4U3cm4UN5VWQyJhnxnyCv4eABufqNfggVs2kd9q3pn_9qsmyKs0yIkSKUxdFoggAMMVuijmT_4oREvO79bL1-r53HOxncSKjAYzGz4katIYgq1jVnPMoQPBbnI08rkQF4XoXtA9lrGH_BHz6C0L9AdzJoGB3YTgW_LBCo31e8CVYAUn2PJnXYQlIVyOLv6C8UvHxTjZjSBHSYJwv7ikFWzfK4ZCmw7wDkpp_GP7P6t22Ap_fv1rMA=s64",
      "userId": "01318899631218949735"
     },
     "user_tz": -480
    },
    "id": "Xj3vwbMDVrTp",
    "outputId": "821d28c5-8396-497a-e280-de5f10fdab06"
   },
   "outputs": [],
   "source": [
    "# Set the index for brics\n",
    "brics.index = [\"BR\", \"RU\", \"IN\", \"CH\", \"SA\"]\n",
    "\n",
    "# Print out brics with new index values\n",
    "print(brics)"
   ]
  },
  {
   "cell_type": "markdown",
   "metadata": {
    "id": "YVMT-nCRWe6a"
   },
   "source": [
    "Another way to create a DataFrame is by importing a csv file using Pandas. Assuming your file is named cars.csv"
   ]
  },
  {
   "cell_type": "code",
   "execution_count": null,
   "metadata": {
    "colab": {
     "base_uri": "https://localhost:8080/",
     "height": 153
    },
    "executionInfo": {
     "elapsed": 882,
     "status": "ok",
     "timestamp": 1587123115485,
     "user": {
      "displayName": "MJIIT ESE Info MJIIT, UTMKL",
      "photoUrl": "",
      "userId": "03310866122965297075"
     },
     "user_tz": -480
    },
    "id": "SMG8TLOHWevo",
    "outputId": "40ff69da-dc2a-46ee-d6f0-3d34e0ddcd69"
   },
   "outputs": [],
   "source": [
    "# Question 2\n",
    "# Import pandas as pd\n",
    "\n",
    "\n",
    "# Import the cars.csv data: cars\n",
    "cars = pd.read_csv('cars.csv')\n",
    "\n",
    "# Print out cars\n",
    "print(cars)"
   ]
  },
  {
   "cell_type": "markdown",
   "metadata": {
    "id": "knzTaRiJVzfY"
   },
   "source": [
    "**Indexing DataFrames**:\n",
    "\n",
    "There are several ways to index a Pandas DataFrame. One of the easiest ways to do this is by using square bracket notation.\n",
    "\n",
    "In the example below, you can use square brackets to select one column of the cars DataFrame. You can either use a single bracket or a double bracket. The single bracket with output a Pandas Series, while a double bracket will output a Pandas DataFrame."
   ]
  },
  {
   "cell_type": "code",
   "execution_count": null,
   "metadata": {
    "colab": {
     "base_uri": "https://localhost:8080/",
     "height": 425
    },
    "executionInfo": {
     "elapsed": 1312,
     "status": "ok",
     "timestamp": 1587123146410,
     "user": {
      "displayName": "MJIIT ESE Info MJIIT, UTMKL",
      "photoUrl": "",
      "userId": "03310866122965297075"
     },
     "user_tz": -480
    },
    "id": "27kd-vQrWNf_",
    "outputId": "2a9ecf10-6ae0-40aa-e9e4-70f6713289d7"
   },
   "outputs": [],
   "source": [
    "# Import pandas and cars.csv\n",
    "import pandas as pd\n",
    "cars = pd.read_csv('cars.csv', index_col = 0)\n",
    "\n",
    "# Print out country column as Pandas Series\n",
    "print(cars['cars_per_cap'])\n",
    "\n",
    "# Print out country column as Pandas DataFrame\n",
    "print(cars[['cars_per_cap']])\n",
    "\n",
    "# Print out DataFrame with country and drives_right columns\n",
    "print(cars[['cars_per_cap', 'country']])"
   ]
  },
  {
   "cell_type": "markdown",
   "metadata": {
    "id": "HBH2Su7WWy_I"
   },
   "source": [
    "Square brackets can also be used to access observations (rows) from a DataFrame."
   ]
  },
  {
   "cell_type": "code",
   "execution_count": null,
   "metadata": {
    "colab": {
     "base_uri": "https://localhost:8080/",
     "height": 153
    },
    "executionInfo": {
     "elapsed": 1191,
     "status": "ok",
     "timestamp": 1587123151688,
     "user": {
      "displayName": "MJIIT ESE Info MJIIT, UTMKL",
      "photoUrl": "",
      "userId": "03310866122965297075"
     },
     "user_tz": -480
    },
    "id": "CzLcTxrtW0-f",
    "outputId": "efab8ebe-5db5-4232-e31a-c747a39ddee9"
   },
   "outputs": [],
   "source": [
    "# Import cars data\n",
    "import pandas as pd\n",
    "cars = pd.read_csv('cars.csv', index_col = 0)\n",
    "\n",
    "# Print out first 4 observations\n",
    "print(cars[0:4])\n",
    "\n",
    "# Print out fifth, sixth, and seventh observation\n",
    "print(cars[4:6])"
   ]
  },
  {
   "cell_type": "markdown",
   "metadata": {
    "id": "yRpPmVSuW2Q2"
   },
   "source": [
    "You can also use ***loc*** and*** iloc*** to perform just about any data selection operation.*** loc*** is label-based, which means that you have to specify rows and columns based on their row and column labels.*** iloc*** is integer index based, so you have to specify rows and columns by their integer index like you did in the previous exercise."
   ]
  },
  {
   "cell_type": "code",
   "execution_count": null,
   "metadata": {
    "colab": {
     "base_uri": "https://localhost:8080/",
     "height": 136
    },
    "executionInfo": {
     "elapsed": 1091,
     "status": "ok",
     "timestamp": 1587123161386,
     "user": {
      "displayName": "MJIIT ESE Info MJIIT, UTMKL",
      "photoUrl": "",
      "userId": "03310866122965297075"
     },
     "user_tz": -480
    },
    "id": "hBXprJF2W9Rf",
    "outputId": "7b4c88e9-3e69-4e32-c729-9c66e6e418b3"
   },
   "outputs": [],
   "source": [
    "# Import cars data\n",
    "import pandas as pd\n",
    "cars = pd.read_csv('cars.csv', index_col = 0)\n",
    "\n",
    "# Print out observation for Japan\n",
    "print(cars.iloc[2])\n",
    "\n",
    "# Print out observations for Australia and Egypt\n",
    "print(cars.loc[['AUS', 'EG']])"
   ]
  },
  {
   "cell_type": "markdown",
   "metadata": {
    "id": "aMmBZ2cUXGYe"
   },
   "source": [
    "**Matplotlib**:\n",
    "matplotlib.pyplot is a collection of command style functions that make matplotlib work like MATLAB. \n",
    "\n",
    "Each pyplot function makes some change to a figure: e.g., creates a figure, creates a plotting area in a figure, plots some lines in a plotting area, decorates the plot with labels, etc. \n",
    "\n",
    "In matplotlib.pyplot various states are preserved across function calls, so that it keeps track of things like the current figure and plotting area, and the plotting functions are directed to the current axes (please note that “axes” here and in most places in the documentation refers to the axes part of a figure and not the strict mathematical term for more than one axis)."
   ]
  },
  {
   "cell_type": "code",
   "execution_count": null,
   "metadata": {
    "colab": {
     "base_uri": "https://localhost:8080/",
     "height": 265
    },
    "executionInfo": {
     "elapsed": 834,
     "status": "ok",
     "timestamp": 1587114741473,
     "user": {
      "displayName": "MJIIT ESE Info MJIIT, UTMKL",
      "photoUrl": "",
      "userId": "03310866122965297075"
     },
     "user_tz": -480
    },
    "id": "RNSUK6geXZgf",
    "outputId": "d2ad4663-4569-4c2b-9ec3-b9b2ec071342"
   },
   "outputs": [],
   "source": [
    "import matplotlib.pyplot as plt\n",
    "plt.plot([1,2,3,4])\n",
    "plt.ylabel('some numbers')\n",
    "plt.show()"
   ]
  },
  {
   "cell_type": "markdown",
   "metadata": {
    "id": "k9Acs7VlXftX"
   },
   "source": [
    "***plot()*** is a versatile command, and will take an arbitrary number of arguments. For example, to plot x versus y, you can issue the command:"
   ]
  },
  {
   "cell_type": "code",
   "execution_count": null,
   "metadata": {
    "id": "4nwQFl9YXjGu"
   },
   "outputs": [],
   "source": [
    "plt.plot([1, 2, 3, 4], [1, 4, 9, 16])"
   ]
  },
  {
   "cell_type": "markdown",
   "metadata": {
    "id": "M5LzMOZ6XpqG"
   },
   "source": [
    "For every x, y pair of arguments, there is an optional third argument which is the format string that indicates the color and line type of the plot. The letters and symbols of the format string are from MATLAB, and you concatenate a color string with a line style string. The default format string is ‘b-‘, which is a solid blue line. For example, to plot the above with red circles, you would issue"
   ]
  },
  {
   "cell_type": "code",
   "execution_count": null,
   "metadata": {
    "id": "6sSNRJmgXmtF"
   },
   "outputs": [],
   "source": [
    "import matplotlib.pyplot as plt\n",
    "plt.plot([1,2,3,4], [1,4,9,16], 'ro')\n",
    "plt.axis([0, 6, 0, 20])\n",
    "# Question 3\n",
    "# print the plot here\n",
    "\n"
   ]
  },
  {
   "cell_type": "markdown",
   "metadata": {
    "id": "Ly3NrKe7X2lA"
   },
   "source": [
    "If matplotlib were limited to working with lists, it would be fairly useless for numeric processing. Generally, you will use numpy arrays. In fact, all sequences are converted to numpy arrays internally. The example below illustrates a plotting several lines with different format styles in one command using arrays."
   ]
  },
  {
   "cell_type": "code",
   "execution_count": null,
   "metadata": {
    "id": "GELQv7WoX3OG"
   },
   "outputs": [],
   "source": [
    "import numpy as np\n",
    "import matplotlib.pyplot as plt\n",
    " \n",
    "# Question 4\n",
    "# use arange from numpy to evenly sampled time at 200ms intervals with end at 1000ms\n",
    "\n",
    "\n",
    "\n",
    "# red dashes, blue squares and green triangles\n",
    "plt.plot(t, t, 'r--', t, t**2, 'bs', t, t**3, 'g^')\n",
    "plt.show()"
   ]
  },
  {
   "cell_type": "markdown",
   "metadata": {
    "id": "sy_BJtjCX6Wd"
   },
   "source": [
    "**Working with multiple figures and axes:**\n",
    "\n",
    "MATLAB, and pyplot, have the concept of the current figure and the current axes. All plotting commands apply to the current axes. The function gca() returns the current axes (a matplotlib.axes.Axes instance), and gcf() returns the current figure (matplotlib.figure.Figure instance). Normally, you don’t have to worry about this, because it is all taken care of behind the scenes. Below is a script to create two subplots."
   ]
  },
  {
   "cell_type": "code",
   "execution_count": null,
   "metadata": {
    "id": "-uxnJQIDYEgN"
   },
   "outputs": [],
   "source": [
    "import numpy as np\n",
    "import matplotlib.pyplot as plt\n",
    "\n",
    "def f(t):\n",
    "    return np.exp(-t) * np.cos(2*np.pi*t)\n",
    "\n",
    "t1 = np.arange(0.0, 5.0, 0.1)\n",
    "t2 = np.arange(0.0, 5.0, 0.02)\n",
    "\n",
    "plt.figure(1)\n",
    "plt.subplot(211)\n",
    "plt.plot(t1, f(t1), 'bo', t2, f(t2), 'k')\n",
    "\n",
    "plt.subplot(212)\n",
    "plt.plot(t2, np.cos(2*np.pi*t2), 'r--')\n",
    "plt.show()"
   ]
  },
  {
   "cell_type": "markdown",
   "metadata": {
    "id": "TFk40SRNY69d"
   },
   "source": [
    "The ***figure()*** command here is optional because figure(1) will be created by default, just as a subplot(111) will be created by default if you don’t manually specify any axes. The ***subplot()*** command specifies numrows, numcols, fignum where fignum ranges from 1 to numrows*numcols. The commas in the subplot command are optional if numrows*numcols<10. So subplot(211) is identical to subplot(2, 1, 1). \n",
    "\n",
    "You can create an arbitrary number of subplots and axes. If you want to place an axes manually, i.e., not on a rectangular grid, use the ***axes() ***command, which allows you to specify the location as axes([left, bottom, width, height]) where all values are in fractional (0 to 1) coordinates. \n",
    "\n",
    "You can create multiple figures by using multiple ***figure()*** calls with an increasing figure number. Of course, each figure can contain as many axes and subplots as your heart desires:"
   ]
  },
  {
   "cell_type": "code",
   "execution_count": null,
   "metadata": {
    "id": "m2djlRL2ZOGT"
   },
   "outputs": [],
   "source": [
    "import matplotlib.pyplot as plt\n",
    "plt.figure(1)                # the first figure\n",
    "plt.subplot(211)             # the first subplot in the first figure\n",
    "plt.plot([1, 2, 3])\n",
    "# Question 5\n",
    "# plot plt.plot([4, 5, 6]) on the new figure\n",
    "\n"
   ]
  },
  {
   "cell_type": "markdown",
   "metadata": {
    "id": "_ciEWbRaZUyA"
   },
   "source": [
    "The ***text()*** command can be used to add text in an arbitrary location, and the xlabel(), ylabel() and title() are used to add text in the indicated locations"
   ]
  },
  {
   "cell_type": "code",
   "execution_count": null,
   "metadata": {
    "id": "DO_TG5tEZXqL"
   },
   "outputs": [],
   "source": [
    "import numpy as np\n",
    "import matplotlib.pyplot as plt\n",
    "\n",
    "# Fixing random state for reproducibility\n",
    "np.random.seed(19680801)\n",
    "\n",
    "mu, sigma = 100, 15\n",
    "x = mu + sigma * np.random.randn(10000)\n",
    "\n",
    "# the histogram of the data\n",
    "n, bins, patches = plt.hist(x, 50, normed=1, facecolor='g', alpha=0.75)\n",
    "\n",
    "\n",
    "plt.xlabel('Smarts')\n",
    "plt.ylabel('Probability')\n",
    "plt.title('Histogram of IQ')\n",
    "plt.text(60, .025, r'$\\mu=100,\\ \\sigma=15$')\n",
    "plt.axis([40, 160, 0, 0.03])\n",
    "plt.grid(True)\n",
    "plt.show()"
   ]
  },
  {
   "cell_type": "markdown",
   "metadata": {
    "id": "25NXnWDAZdW8"
   },
   "source": [
    "All of the*** text()*** commands return an matplotlib.text.Text instance. Just as with with lines above, you can customize the properties by passing keyword arguments into the text functions or using ***setp()***:"
   ]
  },
  {
   "cell_type": "code",
   "execution_count": null,
   "metadata": {
    "id": "BP0B54F8ZiWE"
   },
   "outputs": [],
   "source": [
    "t = plt.xlabel('my data', fontsize=14, color='red')"
   ]
  },
  {
   "cell_type": "markdown",
   "metadata": {
    "id": "ns5rE8CcZnsf"
   },
   "source": [
    "***Annotating text***:\n",
    "\n",
    "The uses of the basic ***text()*** command above place text at an arbitrary position on the Axes. A common use for text is to annotate some feature of the plot, and the*** annotate() ***method provides helper functionality to make annotations easy. In an annotation, there are two points to consider: the location being annotated represented by the argument xy and the location of the text xytext. Both of these arguments are (x,y) tuples."
   ]
  },
  {
   "cell_type": "code",
   "execution_count": null,
   "metadata": {
    "id": "N_YXLg8cZv4u"
   },
   "outputs": [],
   "source": [
    "import numpy as np\n",
    "import matplotlib.pyplot as plt\n",
    "\n",
    "ax = plt.subplot(111)\n",
    "\n",
    "t = np.arange(0.0, 5.0, 0.01)\n",
    "s = np.cos(2*np.pi*t)\n",
    "line, = plt.plot(t, s, lw=2)\n",
    "\n",
    "plt.annotate('local max', xy=(2, 1), xytext=(3, 1.5),\n",
    "            arrowprops=dict(facecolor='black', shrink=0.05),\n",
    "            )\n",
    "\n",
    "plt.ylim(-2,2)\n",
    "plt.show()"
   ]
  },
  {
   "cell_type": "markdown",
   "metadata": {
    "id": "sY2_lW50Z_Xa"
   },
   "source": [
    "**Logarithmic and other nonlinear axes**:\n",
    "\n",
    "matplotlib.pyplot supports not only linear axis scales, but also logarithmic and logit scales. This is commonly used if data spans many orders of magnitude. Changing the scale of an axis is easy:\n",
    "\n",
    "plt.xscale(‘log’)\n",
    "An example of four plots with the same data and different scales for the y axis is shown below."
   ]
  },
  {
   "cell_type": "code",
   "execution_count": null,
   "metadata": {
    "id": "JSnsXPNAaEpS"
   },
   "outputs": [],
   "source": [
    "import numpy as np\n",
    "import matplotlib.pyplot as plt\n",
    "\n",
    "from matplotlib.ticker import NullFormatter  # useful for `logit` scale\n",
    "\n",
    "# Fixing random state for reproducibility\n",
    "np.random.seed(19680801)\n",
    "\n",
    "# make up some data in the interval ]0, 1[\n",
    "y = np.random.normal(loc=0.5, scale=0.4, size=1000)\n",
    "y = y[(y > 0) & (y < 1)]\n",
    "y.sort()\n",
    "x = np.arange(len(y))\n",
    "\n",
    "# plot with various axes scales\n",
    "plt.figure(1)\n",
    "\n",
    "# linear\n",
    "plt.subplot(221)\n",
    "plt.plot(x, y)\n",
    "plt.yscale('linear')\n",
    "plt.title('linear')\n",
    "plt.grid(True)\n",
    "\n",
    "\n",
    "# log\n",
    "plt.subplot(222)\n",
    "plt.plot(x, y)\n",
    "plt.yscale('log')\n",
    "plt.title('log')\n",
    "plt.grid(True)\n",
    "\n",
    "\n",
    "# symmetric log\n",
    "plt.subplot(223)\n",
    "plt.plot(x, y - y.mean())\n",
    "plt.yscale('symlog', linthreshy=0.01)\n",
    "plt.title('symlog')\n",
    "plt.grid(True)\n",
    "\n",
    "# logit\n",
    "plt.subplot(224)\n",
    "plt.plot(x, y)\n",
    "plt.yscale('logit')\n",
    "plt.title('logit')\n",
    "plt.grid(True)\n",
    "# Format the minor tick labels of the y-axis into empty strings with\n",
    "# `NullFormatter`, to avoid cumbering the axis with too many labels.\n",
    "plt.gca().yaxis.set_minor_formatter(NullFormatter())\n",
    "# Adjust the subplot layout, because the logit one may take more space\n",
    "# than usual, due to y-tick labels like \"1 - 10^{-3}\"\n",
    "plt.subplots_adjust(top=0.92, bottom=0.08, left=0.10, right=0.95, hspace=0.25,\n",
    "                    wspace=0.35)\n",
    "\n",
    "plt.show()"
   ]
  }
 ],
 "metadata": {
  "colab": {
   "collapsed_sections": [],
   "name": "Latest Import modules and packages + scientific libraries.ipynb",
   "provenance": []
  },
  "kernelspec": {
   "display_name": "Python 3 (ipykernel)",
   "language": "python",
   "name": "python3"
  },
  "language_info": {
   "codemirror_mode": {
    "name": "ipython",
    "version": 3
   },
   "file_extension": ".py",
   "mimetype": "text/x-python",
   "name": "python",
   "nbconvert_exporter": "python",
   "pygments_lexer": "ipython3",
   "version": "3.10.12"
  }
 },
 "nbformat": 4,
 "nbformat_minor": 4
}
